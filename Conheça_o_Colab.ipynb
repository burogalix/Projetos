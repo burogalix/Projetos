
    {
      "cell_type": "code",
      "source": [
        "lista_frutas= [\"banana\",\"uva\"]\n",
        "for i in lista_frutas:\n",
        "  print(i)\n",
        "lista_frutas.append(\"maca\")\n",
        "print(lista_frutas)\n",
        "\n",
        "lista_frutas.insert(1,\"morango\")\n",
        "print(lista_frutas)\n",
        "\n",
        "\"\"\"lista_frutas.remove(\"maca\")\n",
        "print(lista_frutas)\"\"\"\n",
        "\n",
        "\"\"\"lista_frutas.pop(-1)\n",
        "print(lista_frutas)\"\"\"\n",
        "\n",
        "lista_frutas.sort()\n",
        "print(lista_frutas)\n"
      ],
      "metadata": {
        "id": "XKKgwwWFwSMI"
      },
      "execution_count": null,
      "outputs": []
    },
    {
      "cell_type": "code",
      "source": [
        "notas=[]\n",
        "soma = 0\n",
        "for i in range(3):\n",
        "  nota=float(input(\"Digite uma nota: \"))\n",
        "  notas.append(nota)\n",
        "  soma += nota\n",
        "\n",
        "print(f\"A media é {round(soma/3,2)}\")"
      ],
      "metadata": {
        "id": "De5CgoJFy79n"
      },
      "execution_count": null,
      "outputs": []
    },
    {
      "cell_type": "code",
      "source": [
        "dancarinos = []\n",
        "\n",
        "qtd = int(input(\"Digite a quantidade: \"))\n",
        "\n",
        "for i in range(qtd):\n",
        "  print(f\"\\nCadastro do dançarino{i+1} \")\n",
        "  nome = input(\"nome: \")\n",
        "  habilidades = []\n",
        "  qtd_habilidades = int(input(\"Quantas habilidades deseja cadastrar\"))\n",
        "  for j in range(qtd_habilidades):\n",
        "    habilidade = input(f\"\\n Qual a habilidade {j + 1}\")\n",
        "    habilidades.append(habilidade)\n",
        "  prefencia = input(\"Preferencia do ritmo: \")\n",
        "\n",
        "  dancarino =[nome,habilidades,prefencia]\n",
        "  dancarinos.append(dancarino)\n",
        "\n",
        "  print(\"\\n Lista  de dançarinos\")\n",
        "  for d in dancarinos:\n",
        "    print(f\"\\n Nome:{d[0]}\")\n",
        "    print(f\"\\n habilidades:\")\n",
        "    for h in d[1]:\n",
        "      print(f\"  -{h}\")\n",
        "    print(f\"Preferencia: {d[2]}\")\n"
      ],
      "metadata": {
        "id": "pr2BdL7_AWkF"
      },
      "execution_count": null,
      "outputs": []
    }
  ],
  "metadata": {
    "colab": {
      "name": "Conheça o Colab",
      "provenance": [],
      "include_colab_link": true
    },
    "kernelspec": {
      "display_name": "Python 3",
      "name": "python3"
    }
  },
  "nbformat": 4,
  "nbformat_minor": 0
}
